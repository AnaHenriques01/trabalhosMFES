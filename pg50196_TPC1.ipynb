{
  "nbformat": 4,
  "nbformat_minor": 0,
  "metadata": {
    "colab": {
      "provenance": [],
      "collapsed_sections": []
    },
    "kernelspec": {
      "name": "python3",
      "display_name": "Python 3"
    },
    "language_info": {
      "name": "python"
    }
  },
  "cells": [
    {
      "cell_type": "code",
      "execution_count": null,
      "metadata": {
        "id": "mi7oJZEUZTcd"
      },
      "outputs": [],
      "source": []
    },
    {
      "cell_type": "markdown",
      "source": [
        "# Mestrado em Engenharia Informática\n",
        "> ##### Métodos Formais em Engenharia de Software\n",
        "> [Notebook Collab](https://colab.research.google.com/drive/1KDH5NGtSptJ51xKbiyzxcpmOB9aclOBV?usp=sharing)\n",
        "\n",
        "## **PG50196** - Ana Paula Oliveira Henriques\n",
        "\n",
        "---\n",
        "<br />\n",
        "\n",
        "## **[TPC1]** SAT solving\n",
        "\n",
        "<br />\n",
        "\n",
        "Resolução do ex. 1:\n",
        "\n",
        "```\n",
        "(1) A -> Sócio tem bigode.\n",
        "(2) B -> Sócio blá-blá-blá.\n",
        "```\n",
        "\n",
        "\n",
        "\n"
      ],
      "metadata": {
        "id": "le9uYyYEZcaH"
      }
    }
  ]
}